{
 "cells": [
  {
   "cell_type": "code",
   "execution_count": 2,
   "id": "03e6d1fc-5504-4d0d-aeed-0e281ec08b5e",
   "metadata": {},
   "outputs": [],
   "source": [
    "import sys\n",
    "import numpy as np\n",
    "import cv2\n",
    "\n",
    "# 영상 불러오기\n",
    "src1 = cv2.imread('img1.jpeg', cv2.IMREAD_GRAYSCALE)\n",
    "src2 = cv2.imread('img2.jpeg', cv2.IMREAD_GRAYSCALE)\n",
    "#src1 = cv2.imread('box.png', cv2.IMREAD_GRAYSCALE)\n",
    "#src2 = cv2.imread('box_in_scene.png', cv2.IMREAD_GRAYSCALE)\n",
    "\n",
    "if src1 is None or src2 is None:\n",
    "    print('Image load failed!')\n",
    "    sys.exit()"
   ]
  },
  {
   "cell_type": "code",
   "execution_count": 3,
   "id": "ae16fa8c-7d04-4fd6-abcf-02bd97fb2d67",
   "metadata": {},
   "outputs": [],
   "source": [
    "# 특징점 알고리즘 객체 생성 (KAZE, AKAZE, ORB 등)\n",
    "feature = cv2.KAZE_create()\n",
    "#feature = cv2.AKAZE_create()\n",
    "#feature = cv2.ORB_create()\n",
    "\n",
    "# 특징점 검출 및 기술자 계산\n",
    "kp1, desc1 = feature.detectAndCompute(src1, None)\n",
    "kp2, desc2 = feature.detectAndCompute(src2, None)"
   ]
  },
  {
   "cell_type": "code",
   "execution_count": 4,
   "id": "f948e643-b008-4af1-acbc-a044b0a74579",
   "metadata": {},
   "outputs": [
    {
     "name": "stdout",
     "output_type": "stream",
     "text": [
      "# of kp1: 12475\n",
      "# of kp2: 11244\n",
      "# of matches: 12475\n",
      "# of good_matches: 80\n"
     ]
    }
   ],
   "source": [
    "# 특징점 매칭\n",
    "matcher = cv2.BFMatcher_create()\n",
    "#matcher = cv2.BFMatcher_create(cv2.NORM_HAMMING)\n",
    "matches = matcher.match(desc1, desc2)\n",
    "\n",
    "# 좋은 매칭 결과 선별\n",
    "matches = sorted(matches, key=lambda x: x.distance)\n",
    "\n",
    "#상위 80개만 선별\n",
    "good_matches = matches[:80]\n",
    "\n",
    "print('# of kp1:', len(kp1))\n",
    "print('# of kp2:', len(kp2))\n",
    "print('# of matches:', len(matches))\n",
    "print('# of good_matches:', len(good_matches))"
   ]
  },
  {
   "cell_type": "code",
   "execution_count": 6,
   "id": "346a80f6-b078-4f4c-83b4-36b5e15e92fa",
   "metadata": {},
   "outputs": [],
   "source": [
    "# 호모그래피 계산\n",
    "pts1 = np.array([kp1[m.queryIdx].pt for m in good_matches]).reshape(-1, 1, 2).astype(np.float32)\n",
    "pts2 = np.array([kp2[m.trainIdx].pt for m in good_matches]).reshape(-1, 1, 2).astype(np.float32)\n",
    "H, _ = cv2.findHomography(pts1, pts2, cv2.USAC_MAGSAC)\n",
    "#good_matches가 dematch의 리스트 80개를 하나하나 받아서 m에 받는다. dematch type에는 queryIndex와 trainIndex가있는데 \n",
    "#queryIdx는 1번이미지 키포인트 번호이다. 이걸 kp1에대한 인덱스 번호로 준다. 1번영상에서 kpt의 인덱스에 해당하는것을 찾아서 pt라는 점의 좌표를 받아온다. pt는 실수와 좌표를 갖는 두개짜리 튜플이다. 얘들을 ndarray로 받는다. \n",
    "#pte1이 N,1,2로 받아야 하기때문에 pts1=에서 reshape함수를 사용해 바꿔준다.\n",
    "#호모그래피 perspectiveTransform을 H로 받았고, 마스크는 받지않았다.\n",
    "\n",
    "# # 호모그래피를 이용하여 기준 영상 영역 표시\n",
    "# dst = cv2.drawMatches(src1, kp1, src2, kp2, good_matches, None, flags=cv2.DrawMatchesFlags_NOT_DRAW_SINGLE_POINTS)\n",
    "# (h, w) = src1.shape[:2]\n",
    "# corners1 = np.array([[0, 0], [0, h-1], [w-1, h-1], [w-1, 0]]).reshape(-1, 1, 2).astype(np.float32)\n",
    "# corners2 = cv2.perspectiveTransform(corners1, H)\n",
    "\n",
    "# #perspectiveTransform은 H를 가지고 어디로 이동하는지 좌표계산을 하는것이다. corners1은 N,1,2형태의 shape이어야한다. \n",
    "# corners2 = corners2 + np.float32([w, 0])"
   ]
  },
  {
   "cell_type": "code",
   "execution_count": 8,
   "id": "33ca64a9-c994-4efd-ae04-670114a39dfd",
   "metadata": {},
   "outputs": [],
   "source": [
    "(h, w) = src2.shape[:2]\n",
    "dst = cv2.warpPerspective(src2, H, (w, h))\n",
    "\n",
    "\n",
    "# #drawMatches를 호출하면 가로로 붙여서 하나로 만들어주는데 2번영상의 좌표가 1번영상의 가로 크기만큼 쉬프트된다. 그걸 반영하기위해 float32를 더하고 corners에 저장\n",
    "# cv2.polylines(dst, [np.int32(corners2)], True, (0, 255, 0), 2, cv2.LINE_AA)\n",
    "\n",
    "# cv2.namedWindow('dst', cv2.WINDOW_NORMAL)\n",
    "# cv2.imshow('dst', dst)\n",
    "# cv2.waitKey()\n",
    "# cv2.destroyAllWindows()"
   ]
  },
  {
   "cell_type": "code",
   "execution_count": 11,
   "id": "ca017e1f-d77e-4d63-9d49-1ca486373bb4",
   "metadata": {},
   "outputs": [],
   "source": [
    "cv2.imshow('dst', dst)"
   ]
  },
  {
   "cell_type": "code",
   "execution_count": 14,
   "id": "b60a8c44-9667-44d1-a45a-d4d9cc166a5d",
   "metadata": {},
   "outputs": [
    {
     "ename": "SyntaxError",
     "evalue": "invalid syntax (1641919861.py, line 1)",
     "output_type": "error",
     "traceback": [
      "\u001b[0;36m  Input \u001b[0;32mIn [14]\u001b[0;36m\u001b[0m\n\u001b[0;31m    from matplotlib.pyplot as plt\u001b[0m\n\u001b[0m                           ^\u001b[0m\n\u001b[0;31mSyntaxError\u001b[0m\u001b[0;31m:\u001b[0m invalid syntax\n"
     ]
    }
   ],
   "source": [
    "import matplotlib.pyplot as plt\n",
    "plt.imshow()"
   ]
  },
  {
   "cell_type": "code",
   "execution_count": null,
   "id": "9accfde8-9098-4200-a282-5a5d8b633691",
   "metadata": {},
   "outputs": [],
   "source": []
  }
 ],
 "metadata": {
  "kernelspec": {
   "display_name": "Python 3 (ipykernel)",
   "language": "python",
   "name": "python3"
  },
  "language_info": {
   "codemirror_mode": {
    "name": "ipython",
    "version": 3
   },
   "file_extension": ".py",
   "mimetype": "text/x-python",
   "name": "python",
   "nbconvert_exporter": "python",
   "pygments_lexer": "ipython3",
   "version": "3.10.6"
  }
 },
 "nbformat": 4,
 "nbformat_minor": 5
}
