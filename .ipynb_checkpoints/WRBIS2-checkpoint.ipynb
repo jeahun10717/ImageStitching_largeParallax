{
 "cells": [
  {
   "cell_type": "code",
   "execution_count": null,
   "id": "e3bfacc0-a476-46fd-a908-aa017fcd6f9a",
   "metadata": {},
   "outputs": [],
   "source": [
    "import cv2\n",
    "import numpy as np\n",
    "\n",
    "\n",
    "def cvshow(name, img):\n",
    "    cv2.imshow(name, img)\n",
    "    cv2.waitKey(0)\n",
    "    cv2.destroyAllWindows()\n",
    "    cv2.destroyAllWindows()\n",
    "\n",
    "\n",
    "def sift_kp(image):\n",
    "    gray_image = cv2.cvtColor(image, cv2.COLOR_BGR2GRAY)\n",
    "    sift = cv2.SIFT_create()\n",
    "    sift = cv2.SIFT_create()\n",
    "    kp, des = sift.detectAndCompute(image, None)\n",
    "    kp_image = cv2.drawKeypoints(gray_image, kp, None)\n",
    "    return kp_image, kp, des\n",
    "\n",
    "\n",
    "def get_good_match(des1, des2):\n",
    "    bf = cv2.BFMatcher()\n",
    "    matches = bf.knnMatch(des1, des2, k=2)  # des1 is the template image, des2 is the matching image\n",
    "    matches = sorted(matches, key=lambda x: x[0].distance / x[1].distance)\n",
    "    good = []\n",
    "    for m, n in matches:\n",
    "        if m.distance < 0.55 * n.distance:\n",
    "            good.append(m)\n",
    "    return good\n",
    "\n",
    "\n",
    "def drawMatches(imageA, imageB, kpsA, kpsB, matches, status):\n",
    "    # Initialize the visualization picture, connect the A and B pictures left and right together\n",
    "    (hA, wA) = imageA.shape[:2]\n",
    "    (hB, wB) = imageB.shape[:2]\n",
    "    vis = np.zeros((max(hA, hB), wA + wB, 3), dtype=\"uint8\")\n",
    "    vis[0:hA, 0:wA] = imageA\n",
    "    vis[0:hB, wA:] = imageB\n",
    "\n",
    "    # Joint traversal, draw matching pairs\n",
    "    for ((trainIdx, queryIdx), s) in zip(matches, status):\n",
    "        # When the point pair is matched successfully, draw it on the visualization\n",
    "        if s == 1:\n",
    "            # Draw matching pairs\n",
    "            ptA = (int(kpsA[queryIdx][0]), int(kpsA[queryIdx][1]))\n",
    "            ptB = (int(kpsB[trainIdx][0]) + wA, int(kpsB[trainIdx][1]))\n",
    "            cv2.line(vis, ptA, ptB, (0, 255, 0), 1)\n",
    "\n",
    "    # Return visualization results\n",
    "    return vis\n",
    "\n",
    "\n",
    "# Panorama stitching\n",
    "def siftimg_rightlignment(img_right, img_left):\n",
    "    _, kp1, des1 = sift_kp(img_right)\n",
    "    _, kp2, des2 = sift_kp(img_left)\n",
    "    goodMatch = get_good_match(des1, des2)\n",
    "    # When the matching pairs of the filter items are greater than 4 pairs: calculate the perspective transformation matrix\n",
    "    if len(goodMatch) > 4:\n",
    "        # Get the point coordinates of the matching pair\n",
    "        ptsA = np.float32([kp1[m.queryIdx].pt for m in goodMatch]).reshape(-1, 1, 2)\n",
    "        ptsB = np.float32([kp2[m.trainIdx].pt for m in goodMatch]).reshape(-1, 1, 2)\n",
    "        ransacReprojThreshold = 4\n",
    "        H, status = cv2.findHomography(ptsA, ptsB, cv2.RANSAC, ransacReprojThreshold)\n",
    "\n",
    "        print(H)\n",
    "        #H = np.array([[-3.95002617e-01,-7.49813070e-02, 4.43642683e+02], [-4.06655962e-01,5.27365057e-01, 1.20636875e+02],[-1.60149798e-03, -3.69708507e-05, 1.00000000e+00]])\n",
    "\n",
    "        # The function of this function is to first use RANSAC to select the best four sets of pairing points, and then calculate the H matrix. H is a 3*3 matrix\n",
    "\n",
    "        # Change the angle of view to the right of the picture, result is the transformed picture\n",
    "        result = cv2.warpPerspective(img_right, H, (img_right.shape[1] + img_left.shape[1], img_right.shape[0]))\n",
    "        cvshow('result_medium', result)\n",
    "        # Pass the picture left to the left end of the result picture\n",
    "        result[0:img_left.shape[0], 0:img_left.shape[1]] = img_left\n",
    "        return result\n",
    "\n"
   ]
  },
  {
   "cell_type": "code",
   "execution_count": null,
   "id": "5580d466-1c90-484f-beda-46c24396450c",
   "metadata": {},
   "outputs": [],
   "source": [
    "# Feature matching + panoramic stitching\n",
    "import numpy as np\n",
    "import cv2\n",
    "import matplotlib.pyplot as plt\n",
    "\n",
    "# Read the stitched pictures (note the placement of the left and right pictures)\n",
    "# Is to transform the graphics on the right\n",
    "img_left = cv2.imread('img1.png')\n",
    "img_right = cv2.imread('img2.png')\n",
    "\n",
    "img_right = cv2.resize(img_right, None, fx=0.5, fy=0.3)\n",
    "# Ensure that the two images are the same size\n",
    "img_left = cv2.resize(img_left, (img_right.shape[1], img_right.shape[0]))\n",
    "\n",
    "kpimg_right, kp1, des1 = sift_kp(img_right)\n",
    "kpimg_left, kp2, des2 = sift_kp(img_left)\n",
    "\n",
    "# # Display the original image and the image after key point detection at the same time\n",
    "# cvshow('img_left', np.hstack((img_left, kpimg_left)))\n",
    "# cvshow('img_right', np.hstack((img_right, kpimg_right)))\n",
    "goodMatch = get_good_match(des1, des2)\n",
    "all_goodmatch_img = cv2.drawMatches(img_right, kp1, img_left, kp2, goodMatch, None, flags=2)\n",
    "\n",
    "# # goodmatch_img Set the first goodMatch[:10]\n",
    "goodmatch_img = cv2.drawMatches(img_right, kp1, img_left, kp2, goodMatch[:10], None, flags=2)\n",
    "\n",
    "# cvshow('Keypoint Matches1', all_goodmatch_img)\n",
    "# cvshow('Keypoint Matches2', goodmatch_img)\n",
    "\n",
    "# # Stitch the picture into a panorama\n",
    "result = siftimg_rightlignment(img_right, img_left)\n",
    "# cvshow('result', result)"
   ]
  },
  {
   "cell_type": "code",
   "execution_count": null,
   "id": "46f0e44b-26a2-4c83-b33c-dbcb8846e621",
   "metadata": {},
   "outputs": [],
   "source": [
    "print(result)\n",
    "# plt.imshow(result)"
   ]
  },
  {
   "cell_type": "code",
   "execution_count": 1,
   "id": "2b212647-b55b-4363-9342-78cc80c8e685",
   "metadata": {},
   "outputs": [
    {
     "name": "stdout",
     "output_type": "stream",
     "text": [
      "Python 3.8.5\n"
     ]
    }
   ],
   "source": [
    "!python --version"
   ]
  },
  {
   "cell_type": "code",
   "execution_count": null,
   "id": "96d294b7-1918-4d31-8174-d62cf0590a8d",
   "metadata": {},
   "outputs": [],
   "source": []
  }
 ],
 "metadata": {
  "kernelspec": {
   "display_name": "Python 3 (ipykernel)",
   "language": "python",
   "name": "python3"
  },
  "language_info": {
   "codemirror_mode": {
    "name": "ipython",
    "version": 3
   },
   "file_extension": ".py",
   "mimetype": "text/x-python",
   "name": "python",
   "nbconvert_exporter": "python",
   "pygments_lexer": "ipython3",
   "version": "3.10.6"
  }
 },
 "nbformat": 4,
 "nbformat_minor": 5
}
