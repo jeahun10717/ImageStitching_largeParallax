{
 "cells": [
  {
   "cell_type": "code",
   "execution_count": 8,
   "id": "4aea5b63-6203-47bd-8307-a3df5d322d92",
   "metadata": {},
   "outputs": [],
   "source": [
    "import cv2\n",
    "import numpy as np\n",
    "\n",
    "img = cv2.imread ( \"test1.png\" ) \n",
    "#Initialize the slic item, the average superpixel size is 20 (default is 10), and the smoothing factor is 20 \n",
    "slic = cv2.ximgproc.createSuperpixelSLIC( img , region_size = 100 , ruler =  20.0 )  \n",
    "slic.iterate( 10 )      \n",
    "#Number of iterations, the larger the effect, the better \n",
    "mask_slic = slic.getLabelContourMask( )  \n",
    "#Get Mask, super pixel edge Mask==1 \n",
    "label_slic = slic.getLabels( )         # Get the superpixel tag \n",
    "number_slic = slic.getNumberOfSuperpixels( )   # obtain super pixel number \n",
    "mask_inv_slic = cv2.bitwise_not( mask_slic )   \n",
    "img_slic = cv2.bitwise_and( img , img , mask = mask_inv_slic )  # drawn over the pixel boundary on the original \n",
    "cv2.imshow( \"img_slic\" , img_slic ) \n",
    "cv2.waitKey( ) \n",
    "cv2.destroyAllWindows( )"
   ]
  },
  {
   "cell_type": "code",
   "execution_count": 11,
   "id": "6fb235ff-0671-4014-90f3-2fdabf99caee",
   "metadata": {},
   "outputs": [
    {
     "data": {
      "text/plain": [
       "< cv2.ximgproc.SuperpixelSLIC 0x187146af0>"
      ]
     },
     "execution_count": 11,
     "metadata": {},
     "output_type": "execute_result"
    }
   ],
   "source": [
    "slic"
   ]
  },
  {
   "cell_type": "code",
   "execution_count": null,
   "id": "2fa310e8-bb97-45a4-993c-6de52f31b0fb",
   "metadata": {},
   "outputs": [],
   "source": []
  },
  {
   "cell_type": "code",
   "execution_count": null,
   "id": "519f94bd-8ff3-4add-b53c-faa4e32700e5",
   "metadata": {},
   "outputs": [],
   "source": []
  }
 ],
 "metadata": {
  "kernelspec": {
   "display_name": "Python 3 (ipykernel)",
   "language": "python",
   "name": "python3"
  },
  "language_info": {
   "codemirror_mode": {
    "name": "ipython",
    "version": 3
   },
   "file_extension": ".py",
   "mimetype": "text/x-python",
   "name": "python",
   "nbconvert_exporter": "python",
   "pygments_lexer": "ipython3",
   "version": "3.10.6"
  }
 },
 "nbformat": 4,
 "nbformat_minor": 5
}
