{
 "cells": [
  {
   "cell_type": "code",
   "execution_count": 9,
   "id": "4aea5b63-6203-47bd-8307-a3df5d322d92",
   "metadata": {},
   "outputs": [],
   "source": [
    "import cv2\n",
    "import numpy as np\n",
    "import sys"
   ]
  },
  {
   "cell_type": "code",
   "execution_count": 10,
   "id": "1d639706-8ab7-4cfe-9fbb-a659b8933e13",
   "metadata": {},
   "outputs": [],
   "source": [
    "# choose one of: 'SEEDS', 'SLIC', 'SLICO', 'MSLIC', 'LSC'\n",
    "ALG = 'SLIC';"
   ]
  },
  {
   "cell_type": "code",
   "execution_count": 15,
   "id": "5b82383a-1945-4ae0-a46c-952aafccfb0a",
   "metadata": {},
   "outputs": [],
   "source": [
    "src = cv2.imread('test1.png');"
   ]
  },
  {
   "cell_type": "code",
   "execution_count": 16,
   "id": "07ec631d-8b5c-4040-9e6a-e721b49c6fed",
   "metadata": {},
   "outputs": [
    {
     "ename": "SyntaxError",
     "evalue": "invalid syntax (1907391483.py, line 3)",
     "output_type": "error",
     "traceback": [
      "\u001b[0;36m  Input \u001b[0;32mIn [16]\u001b[0;36m\u001b[0m\n\u001b[0;31m    num_superpixels = 300;  % SEEDS Number of Superpixels\u001b[0m\n\u001b[0m                            ^\u001b[0m\n\u001b[0;31mSyntaxError\u001b[0m\u001b[0;31m:\u001b[0m invalid syntax\n"
     ]
    }
   ],
   "source": [
    "# Create segmentation object\n",
    "\n",
    "num_superpixels = 300;  % SEEDS Number of Superpixels\n",
    "num_levels = 4;         % SEEDS Number of Levels\n",
    "prior = 2;              % SEEDS Smoothing Prior\n",
    "num_histogram_bins = 5; % SEEDS histogram bins\n",
    "double_step = false;    % SEEDS two steps\n",
    "region_size = 20;       % SLIC/SLICO/MSLIC/LSC average superpixel size\n",
    "ruler = 15.0;           % SLIC/MSLIC smoothness (spatial regularization)\n",
    "ratio = 0.075;          % LSC compactness\n",
    "min_element_size = 25;  % SLIC/SLICO/MSLIC/LSC minimum component size percentage\n",
    "num_iterations = 10;    % Iterations\n",
    "\n",
    "switch ALG\n",
    "    case 'SEEDS'\n",
    "        superpix = cv.SuperpixelSEEDS(...\n",
    "            size(converted), num_superpixels, num_levels, 'Prior',prior, ...\n",
    "            'HistogramBins',num_histogram_bins, 'DoubleStep',double_step);\n",
    "    case {'SLIC', 'SLICO', 'MSLIC'}\n",
    "        superpix = cv.SuperpixelSLIC(converted, 'Algorithm',ALG, ...\n",
    "            'RegionSize',region_size, 'Ruler',ruler);\n",
    "    case 'LSC'\n",
    "        superpix = cv.SuperpixelLSC(converted, ...\n",
    "            'RegionSize',region_size, 'Ratio',ratio);\n",
    "    otherwise\n",
    "        error('Unrecognized algorithm %s', ALG);\n",
    "end"
   ]
  },
  {
   "cell_type": "code",
   "execution_count": 7,
   "id": "74a5991c-8a33-4bd7-9ab2-1a46ac80a2f7",
   "metadata": {},
   "outputs": [
    {
     "ename": "TypeError",
     "evalue": "object of type 'cv2.ximgproc.SuperpixelLSC' has no len()",
     "output_type": "error",
     "traceback": [
      "\u001b[0;31m---------------------------------------------------------------------------\u001b[0m",
      "\u001b[0;31mTypeError\u001b[0m                                 Traceback (most recent call last)",
      "Input \u001b[0;32mIn [7]\u001b[0m, in \u001b[0;36m<cell line: 1>\u001b[0;34m()\u001b[0m\n\u001b[0;32m----> 1\u001b[0m \u001b[38;5;28;43mlen\u001b[39;49m\u001b[43m(\u001b[49m\u001b[43mSLIC\u001b[49m\u001b[43m)\u001b[49m\n",
      "\u001b[0;31mTypeError\u001b[0m: object of type 'cv2.ximgproc.SuperpixelLSC' has no len()"
     ]
    }
   ],
   "source": [
    "# Segment image\n",
    "\n",
    "tic\n",
    "if strcmp(ALG, 'SEEDS')\n",
    "    superpix.iterate(converted, 'NumIterations',num_iterations);\n",
    "else\n",
    "    superpix.iterate('NumIterations',num_iterations);\n",
    "\n",
    "    % merge small superpixels to neighbouring ones\n",
    "    if min_element_size > 0\n",
    "        superpix.enforceLabelConnectivity('MinElementSize',min_element_size);\n",
    "    end\n",
    "end\n",
    "npix = superpix.getNumberOfSuperpixels();\n",
    "fprintf('%s segmentation with %d superpixels\\n', ALG, npix);\n",
    "toc"
   ]
  },
  {
   "cell_type": "code",
   "execution_count": 8,
   "id": "59a45db3-f815-4aef-8cc9-cb1a2db26758",
   "metadata": {},
   "outputs": [
    {
     "ename": "error",
     "evalue": "OpenCV(4.6.0) :-1: error: (-5:Bad argument) in function 'imshow'\n> Overload resolution failed:\n>  - imshow() missing required argument 'mat' (pos 2)\n>  - imshow() missing required argument 'mat' (pos 2)\n>  - imshow() missing required argument 'mat' (pos 2)\n",
     "output_type": "error",
     "traceback": [
      "\u001b[0;31m---------------------------------------------------------------------------\u001b[0m",
      "\u001b[0;31merror\u001b[0m                                     Traceback (most recent call last)",
      "Input \u001b[0;32mIn [8]\u001b[0m, in \u001b[0;36m<cell line: 1>\u001b[0;34m()\u001b[0m\n\u001b[0;32m----> 1\u001b[0m \u001b[43mcv2\u001b[49m\u001b[38;5;241;43m.\u001b[39;49m\u001b[43mimshow\u001b[49m\u001b[43m(\u001b[49m\u001b[43mSLIC\u001b[49m\u001b[43m)\u001b[49m\n",
      "\u001b[0;31merror\u001b[0m: OpenCV(4.6.0) :-1: error: (-5:Bad argument) in function 'imshow'\n> Overload resolution failed:\n>  - imshow() missing required argument 'mat' (pos 2)\n>  - imshow() missing required argument 'mat' (pos 2)\n>  - imshow() missing required argument 'mat' (pos 2)\n"
     ]
    }
   ],
   "source": [
    "cv2.imshow(SLIC)"
   ]
  },
  {
   "cell_type": "code",
   "execution_count": null,
   "id": "64523ed1-380e-4b90-b7e6-27a874e36e86",
   "metadata": {},
   "outputs": [],
   "source": []
  }
 ],
 "metadata": {
  "kernelspec": {
   "display_name": "Python 3 (ipykernel)",
   "language": "python",
   "name": "python3"
  },
  "language_info": {
   "codemirror_mode": {
    "name": "ipython",
    "version": 3
   },
   "file_extension": ".py",
   "mimetype": "text/x-python",
   "name": "python",
   "nbconvert_exporter": "python",
   "pygments_lexer": "ipython3",
   "version": "3.10.6"
  }
 },
 "nbformat": 4,
 "nbformat_minor": 5
}
